{
  "nbformat": 4,
  "nbformat_minor": 0,
  "metadata": {
    "colab": {
      "provenance": [],
      "authorship_tag": "ABX9TyPsST5HaJhnL4p9nfMKjvIb",
      "include_colab_link": true
    },
    "kernelspec": {
      "name": "python3",
      "display_name": "Python 3"
    },
    "language_info": {
      "name": "python"
    }
  },
  "cells": [
    {
      "cell_type": "markdown",
      "metadata": {
        "id": "view-in-github",
        "colab_type": "text"
      },
      "source": [
        "<a href=\"https://colab.research.google.com/github/deepkse/QueryOptimizer/blob/main/QueryOptimizer.ipynb\" target=\"_parent\"><img src=\"https://colab.research.google.com/assets/colab-badge.svg\" alt=\"Open In Colab\"/></a>"
      ]
    },
    {
      "cell_type": "code",
      "source": [
        "!pip install openai"
      ],
      "metadata": {
        "colab": {
          "base_uri": "https://localhost:8080/"
        },
        "id": "fMTBI2ClAiWn",
        "outputId": "eaddf6c7-2f60-406b-cda1-69559a47b93b"
      },
      "execution_count": 2,
      "outputs": [
        {
          "output_type": "stream",
          "name": "stdout",
          "text": [
            "Collecting openai\n",
            "  Downloading openai-1.35.14-py3-none-any.whl (328 kB)\n",
            "\u001b[2K     \u001b[90m━━━━━━━━━━━━━━━━━━━━━━━━━━━━━━━━━━━━━━━━\u001b[0m \u001b[32m328.5/328.5 kB\u001b[0m \u001b[31m7.0 MB/s\u001b[0m eta \u001b[36m0:00:00\u001b[0m\n",
            "\u001b[?25hRequirement already satisfied: anyio<5,>=3.5.0 in /usr/local/lib/python3.10/dist-packages (from openai) (3.7.1)\n",
            "Requirement already satisfied: distro<2,>=1.7.0 in /usr/lib/python3/dist-packages (from openai) (1.7.0)\n",
            "Collecting httpx<1,>=0.23.0 (from openai)\n",
            "  Downloading httpx-0.27.0-py3-none-any.whl (75 kB)\n",
            "\u001b[2K     \u001b[90m━━━━━━━━━━━━━━━━━━━━━━━━━━━━━━━━━━━━━━━━\u001b[0m \u001b[32m75.6/75.6 kB\u001b[0m \u001b[31m9.4 MB/s\u001b[0m eta \u001b[36m0:00:00\u001b[0m\n",
            "\u001b[?25hRequirement already satisfied: pydantic<3,>=1.9.0 in /usr/local/lib/python3.10/dist-packages (from openai) (2.8.2)\n",
            "Requirement already satisfied: sniffio in /usr/local/lib/python3.10/dist-packages (from openai) (1.3.1)\n",
            "Requirement already satisfied: tqdm>4 in /usr/local/lib/python3.10/dist-packages (from openai) (4.66.4)\n",
            "Requirement already satisfied: typing-extensions<5,>=4.7 in /usr/local/lib/python3.10/dist-packages (from openai) (4.12.2)\n",
            "Requirement already satisfied: idna>=2.8 in /usr/local/lib/python3.10/dist-packages (from anyio<5,>=3.5.0->openai) (3.7)\n",
            "Requirement already satisfied: exceptiongroup in /usr/local/lib/python3.10/dist-packages (from anyio<5,>=3.5.0->openai) (1.2.1)\n",
            "Requirement already satisfied: certifi in /usr/local/lib/python3.10/dist-packages (from httpx<1,>=0.23.0->openai) (2024.7.4)\n",
            "Collecting httpcore==1.* (from httpx<1,>=0.23.0->openai)\n",
            "  Downloading httpcore-1.0.5-py3-none-any.whl (77 kB)\n",
            "\u001b[2K     \u001b[90m━━━━━━━━━━━━━━━━━━━━━━━━━━━━━━━━━━━━━━━━\u001b[0m \u001b[32m77.9/77.9 kB\u001b[0m \u001b[31m8.6 MB/s\u001b[0m eta \u001b[36m0:00:00\u001b[0m\n",
            "\u001b[?25hCollecting h11<0.15,>=0.13 (from httpcore==1.*->httpx<1,>=0.23.0->openai)\n",
            "  Downloading h11-0.14.0-py3-none-any.whl (58 kB)\n",
            "\u001b[2K     \u001b[90m━━━━━━━━━━━━━━━━━━━━━━━━━━━━━━━━━━━━━━━━\u001b[0m \u001b[32m58.3/58.3 kB\u001b[0m \u001b[31m6.7 MB/s\u001b[0m eta \u001b[36m0:00:00\u001b[0m\n",
            "\u001b[?25hRequirement already satisfied: annotated-types>=0.4.0 in /usr/local/lib/python3.10/dist-packages (from pydantic<3,>=1.9.0->openai) (0.7.0)\n",
            "Requirement already satisfied: pydantic-core==2.20.1 in /usr/local/lib/python3.10/dist-packages (from pydantic<3,>=1.9.0->openai) (2.20.1)\n",
            "Installing collected packages: h11, httpcore, httpx, openai\n",
            "Successfully installed h11-0.14.0 httpcore-1.0.5 httpx-0.27.0 openai-1.35.14\n"
          ]
        }
      ]
    },
    {
      "cell_type": "code",
      "execution_count": 9,
      "metadata": {
        "colab": {
          "base_uri": "https://localhost:8080/",
          "height": 949
        },
        "id": "xG92qcEi_F6D",
        "outputId": "a15fda41-4ccb-459d-f523-913de547441f"
      },
      "outputs": [
        {
          "output_type": "stream",
          "name": "stdout",
          "text": [
            "\n",
            "SQL Query Optimizer\n",
            "-------------------\n",
            "Enter your SQL query (or 'quit' to exit): SELECT customer_name, order_date FROM customers WHERE customer_id IN (     SELECT customer_id     FROM orders     WHERE order_total > 1000 )\n",
            "Enter the target DBMS (e.g., MySQL, PostgreSQL, Oracle): Oracle\n",
            "\n",
            "Optimized Query:\n",
            "```sql\n",
            "SELECT c.customer_name, o.order_date \n",
            "FROM customers c\n",
            "JOIN orders o ON c.customer_id = o.customer_id\n",
            "WHERE o.order_total > 1000;\n",
            "```\n",
            "\n",
            "Explanation of optimizations:\n",
            "1. Simplify complex expressions: The original query had a nested subquery using `IN` which can be simplified by using a JOIN operation instead.\n",
            "   \n",
            "2. Eliminate redundant conditions: The JOIN condition `c.customer_id = o.customer_id` ensures that only the relevant customer records are fetched based on the common customer_id field.\n",
            "\n",
            "3. Optimize JOIN operations: By using a JOIN between the `customers` and `orders` tables, we directly retrieve the required data without the need for a separate subquery.\n",
            "\n",
            "4. Use appropriate aggregate functions: Since there are no aggregate functions used in the original query, we do not need to make any changes in this aspect.\n",
            "\n",
            "5. Minimize subqueries: The optimized query eliminates the need for a subquery by directly joining the `customers` and `orders` tables.\n",
            "\n",
            "6. Optimize WHERE clauses: The revised WHERE clause `o.order_total > 1000` is kept to filter out orders with a total greater than 1000.\n",
            "\n",
            "7. Use appropriate DBMS-specific optimizations for Oracle: The revised query leverages the JOIN operation which is efficient in Oracle databases.\n",
            "\n",
            "Overall, the optimized query reduces complexity by using a JOIN operation to directly fetch the required data, eliminating the need for a subquery and simplifying the overall structure of the query.\n",
            "\n",
            "SQL Query Optimizer\n",
            "-------------------\n"
          ]
        }
      ],
      "source": [
        "from openai import OpenAI\n",
        "import re\n",
        "\n",
        "# Provide OpenAI API Key\n",
        "client = OpenAI(api_key='**********')\n",
        "\n",
        "def optimize_sql_query(query, dbms):\n",
        "    # Prompt for LLM\n",
        "    prompt = f\"\"\"\n",
        "    As an expert SQL query optimizer, your task is to optimize the following SQL query for {dbms} without relying on indexes or query plans.\n",
        "\n",
        "    Original query:\n",
        "    {query}\n",
        "\n",
        "    Please provide an optimized version of this query, focusing on the following aspects:\n",
        "    1. Simplify complex expressions\n",
        "    2. Eliminate redundant conditions\n",
        "    3. Optimize JOIN operations (e.g., consider using EXISTS instead of IN for subqueries)\n",
        "    4. Use appropriate aggregate functions\n",
        "    5. Minimize subqueries where possible\n",
        "    6. Optimize WHERE clauses\n",
        "    7. Use appropriate DBMS-specific optimizations for {dbms}\n",
        "\n",
        "    Your response should include:\n",
        "    1. The optimized SQL query\n",
        "    2. A detailed explanation of each optimization made\n",
        "    3. If no optimizations are possible, explain why the original query is already optimal\n",
        "\n",
        "    Format your response as follows:\n",
        "    Optimized query:\n",
        "    [Your optimized SQL query here]\n",
        "\n",
        "    Explanation:\n",
        "    [Your detailed explanation here]\n",
        "    \"\"\"\n",
        "\n",
        "    try:\n",
        "        # Call the OpenAI API\n",
        "        response = client.chat.completions.create(\n",
        "            model=\"gpt-3.5-turbo\",\n",
        "            messages=[\n",
        "                {\"role\": \"system\", \"content\": \"You are a SQL query optimization assistant.\"},\n",
        "                {\"role\": \"user\", \"content\": prompt}\n",
        "            ]\n",
        "        )\n",
        "\n",
        "        # Extract the optimized query and explanation\n",
        "        ai_response = response.choices[0].message.content\n",
        "        optimized_query = re.search(r'Optimized query:(.*?)Explanation:', ai_response, re.DOTALL)\n",
        "        explanation = re.search(r'Explanation:(.*)', ai_response, re.DOTALL)\n",
        "\n",
        "        if optimized_query and explanation:\n",
        "            return optimized_query.group(1).strip(), explanation.group(1).strip()\n",
        "        else:\n",
        "            return \"Error: Could not parse the AI response.\", \"Please try again with a different query.\"\n",
        "\n",
        "    except Exception as e:\n",
        "        return f\"Error: {str(e)}\", \"An error occurred while processing the query.\"\n",
        "\n",
        "while True:\n",
        "    print(\"\\nSQL Query Optimizer\")\n",
        "    print(\"-------------------\")\n",
        "    query = input(\"Enter your SQL query (or 'quit' to exit): \")\n",
        "\n",
        "    if query.lower() == 'quit':\n",
        "        break\n",
        "\n",
        "    dbms = input(\"Enter the target DBMS (e.g., MySQL, PostgreSQL, Oracle): \")\n",
        "\n",
        "    optimized_query, explanation = optimize_sql_query(query, dbms)\n",
        "\n",
        "    print(\"\\nOptimized Query:\")\n",
        "    print(optimized_query)\n",
        "    print(\"\\nExplanation of optimizations:\")\n",
        "    print(explanation)"
      ]
    }
  ]
}
